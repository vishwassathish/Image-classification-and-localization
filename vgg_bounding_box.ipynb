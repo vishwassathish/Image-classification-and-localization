{
 "cells": [
  {
   "cell_type": "code",
   "execution_count": 1,
   "metadata": {},
   "outputs": [
    {
     "name": "stderr",
     "output_type": "stream",
     "text": [
      "Using TensorFlow backend.\n"
     ]
    }
   ],
   "source": [
    "import os\n",
    "import numpy as np\n",
    "from PIL import Image, ImageDraw\n",
    "from pickle import load\n",
    "import NNfunctions as NN\n",
    "from keras.models import load_model\n",
    "\n",
    "root_dir = 'C:/Users/Varun/Desktop/VOCdevkit/VOC2010'\n",
    "img_dir = os.path.join(root_dir, 'JPEGImages')"
   ]
  },
  {
   "cell_type": "code",
   "execution_count": 2,
   "metadata": {},
   "outputs": [
    {
     "name": "stdout",
     "output_type": "stream",
     "text": [
      "[4744, 4744, 4744]\n"
     ]
    }
   ],
   "source": [
    "x_master, y_master, z_master = NN.get_dataset('C:/Users/Varun/Desktop/AI-ESA/preprocessing')"
   ]
  },
  {
   "cell_type": "code",
   "execution_count": 3,
   "metadata": {},
   "outputs": [
    {
     "name": "stdout",
     "output_type": "stream",
     "text": [
      "(3500, 128, 128, 3) (3500, 4)\n"
     ]
    }
   ],
   "source": [
    "indices = np.arange(x_master.shape[0])\n",
    "x_master = x_master[indices]\n",
    "y_master = y_master[indices]\n",
    "z_master = z_master[indices]\n",
    "\n",
    "NB_TRAIN = 3500\n",
    "\n",
    "x_train = np.array(x_master[:NB_TRAIN])\n",
    "y_train = np.array(y_master[:NB_TRAIN])\n",
    "z_train = np.array(z_master[:NB_TRAIN])\n",
    "\n",
    "print(x_train.shape, y_train.shape)"
   ]
  },
  {
   "cell_type": "code",
   "execution_count": 4,
   "metadata": {},
   "outputs": [
    {
     "name": "stdout",
     "output_type": "stream",
     "text": [
      "_________________________________________________________________\n",
      "Layer (type)                 Output Shape              Param #   \n",
      "=================================================================\n",
      "input_1 (InputLayer)         (None, None, None, 3)     0         \n",
      "_________________________________________________________________\n",
      "block1_conv1 (Conv2D)        (None, None, None, 64)    1792      \n",
      "_________________________________________________________________\n",
      "block1_conv2 (Conv2D)        (None, None, None, 64)    36928     \n",
      "_________________________________________________________________\n",
      "block1_pool (MaxPooling2D)   (None, None, None, 64)    0         \n",
      "_________________________________________________________________\n",
      "block2_conv1 (Conv2D)        (None, None, None, 128)   73856     \n",
      "_________________________________________________________________\n",
      "block2_conv2 (Conv2D)        (None, None, None, 128)   147584    \n",
      "_________________________________________________________________\n",
      "block2_pool (MaxPooling2D)   (None, None, None, 128)   0         \n",
      "_________________________________________________________________\n",
      "block3_conv1 (Conv2D)        (None, None, None, 256)   295168    \n",
      "_________________________________________________________________\n",
      "block3_conv2 (Conv2D)        (None, None, None, 256)   590080    \n",
      "_________________________________________________________________\n",
      "block3_conv3 (Conv2D)        (None, None, None, 256)   590080    \n",
      "_________________________________________________________________\n",
      "block3_pool (MaxPooling2D)   (None, None, None, 256)   0         \n",
      "_________________________________________________________________\n",
      "block4_conv1 (Conv2D)        (None, None, None, 512)   1180160   \n",
      "_________________________________________________________________\n",
      "block4_conv2 (Conv2D)        (None, None, None, 512)   2359808   \n",
      "_________________________________________________________________\n",
      "block4_conv3 (Conv2D)        (None, None, None, 512)   2359808   \n",
      "_________________________________________________________________\n",
      "block4_pool (MaxPooling2D)   (None, None, None, 512)   0         \n",
      "_________________________________________________________________\n",
      "block5_conv1 (Conv2D)        (None, None, None, 512)   2359808   \n",
      "_________________________________________________________________\n",
      "block5_conv2 (Conv2D)        (None, None, None, 512)   2359808   \n",
      "_________________________________________________________________\n",
      "block5_conv3 (Conv2D)        (None, None, None, 512)   2359808   \n",
      "_________________________________________________________________\n",
      "block5_pool (MaxPooling2D)   (None, None, None, 512)   0         \n",
      "_________________________________________________________________\n",
      "global_average_pooling2d_1 ( (None, 512)               0         \n",
      "_________________________________________________________________\n",
      "dense_1 (Dense)              (None, 64)                32832     \n",
      "_________________________________________________________________\n",
      "dropout_1 (Dropout)          (None, 64)                0         \n",
      "_________________________________________________________________\n",
      "dense_2 (Dense)              (None, 32)                2080      \n",
      "_________________________________________________________________\n",
      "dropout_2 (Dropout)          (None, 32)                0         \n",
      "_________________________________________________________________\n",
      "dense_3 (Dense)              (None, 4)                 132       \n",
      "=================================================================\n",
      "Total params: 14,749,732\n",
      "Trainable params: 35,044\n",
      "Non-trainable params: 14,714,688\n",
      "_________________________________________________________________\n",
      "Train on 2800 samples, validate on 700 samples\n",
      "Epoch 1/6\n",
      "2800/2800 [==============================] - 97s 35ms/step - loss: 4388.8550 - mean_squared_error: 4388.8550 - acc: 0.4586 - val_loss: 1927.5675 - val_mean_squared_error: 1927.5675 - val_acc: 0.4457\n",
      "Epoch 2/6\n",
      "2800/2800 [==============================] - 94s 33ms/step - loss: 1429.0708 - mean_squared_error: 1429.0708 - acc: 0.4807 - val_loss: 579.5374 - val_mean_squared_error: 579.5374 - val_acc: 0.6814\n",
      "Epoch 3/6\n",
      "2800/2800 [==============================] - 94s 34ms/step - loss: 1192.8690 - mean_squared_error: 1192.8690 - acc: 0.5064 - val_loss: 533.1702 - val_mean_squared_error: 533.1702 - val_acc: 0.6486\n",
      "Epoch 4/6\n",
      "2800/2800 [==============================] - 95s 34ms/step - loss: 1058.4870 - mean_squared_error: 1058.4870 - acc: 0.5125 - val_loss: 520.6758 - val_mean_squared_error: 520.6758 - val_acc: 0.7000\n",
      "Epoch 5/6\n",
      "2800/2800 [==============================] - 96s 34ms/step - loss: 1005.8322 - mean_squared_error: 1005.8322 - acc: 0.5229 - val_loss: 465.9599 - val_mean_squared_error: 465.9599 - val_acc: 0.5829\n",
      "Epoch 6/6\n",
      "2800/2800 [==============================] - 96s 34ms/step - loss: 997.2205 - mean_squared_error: 997.2205 - acc: 0.5118 - val_loss: 476.7038 - val_mean_squared_error: 476.7038 - val_acc: 0.5457\n"
     ]
    }
   ],
   "source": [
    "from keras import applications\n",
    "from keras.models import Sequential, Model\n",
    "from keras.layers import Conv2D, MaxPooling2D\n",
    "from keras.layers import Activation, Dropout, Flatten, Dense, GlobalAveragePooling2D\n",
    "\n",
    "\n",
    "base_model = applications.VGG16(weights = 'imagenet', include_top=False)\n",
    "x = base_model.output\n",
    "x = GlobalAveragePooling2D()(x)\n",
    "x = Dense(64, activation='relu')(x)\n",
    "x = Dropout(0.5)(x)\n",
    "x = Dense(32, activation='relu')(x)\n",
    "x = Dropout(0.5)(x)\n",
    "predictions = Dense(4, activation='relu')(x)\n",
    "\n",
    "model = Model(inputs=base_model.input, outputs=predictions)\n",
    "\n",
    "for layer in base_model.layers:\n",
    "    layer.trainable = False\n",
    "\n",
    "model.compile(loss='mse', optimizer='adam', metrics=['mse', 'acc'])\n",
    "\n",
    "model.summary()\n",
    "\n",
    "model.fit(x_train, y_train,\n",
    "          batch_size = 50,\n",
    "          epochs = 6,\n",
    "          validation_split = 0.2)\n",
    "\n",
    "model.save('bounding_box_model.h5')"
   ]
  },
  {
   "cell_type": "code",
   "execution_count": 5,
   "metadata": {},
   "outputs": [
    {
     "name": "stdout",
     "output_type": "stream",
     "text": [
      "1000/1000 [==============================] - 32s 32ms/step\n"
     ]
    },
    {
     "data": {
      "text/plain": [
       "[3142.9960498046876, 3142.9960498046876, 0.5540000055730343]"
      ]
     },
     "execution_count": 5,
     "metadata": {},
     "output_type": "execute_result"
    }
   ],
   "source": [
    "model = load_model('bounding_box_mode3.h5')\n",
    "x_test, y_test = x_master[-1000:], y_master[-1000:]\n",
    "model.evaluate(x_test, y_test, batch_size = 10)"
   ]
  },
  {
   "cell_type": "code",
   "execution_count": 12,
   "metadata": {},
   "outputs": [
    {
     "name": "stdout",
     "output_type": "stream",
     "text": [
      "[ 24.36787796  29.89999962  89.0993576   89.47468567]\n"
     ]
    }
   ],
   "source": [
    "model = load_model('bounding_box_model.h5')\n",
    "NN.predict_bnd_box(os.path.join(img_dir, '2008_003232.jpg'), model)\n",
    "del model"
   ]
  }
 ],
 "metadata": {
  "kernelspec": {
   "display_name": "Python 3",
   "language": "python",
   "name": "python3"
  },
  "language_info": {
   "codemirror_mode": {
    "name": "ipython",
    "version": 3
   },
   "file_extension": ".py",
   "mimetype": "text/x-python",
   "name": "python",
   "nbconvert_exporter": "python",
   "pygments_lexer": "ipython3",
   "version": "3.5.4"
  }
 },
 "nbformat": 4,
 "nbformat_minor": 2
}
