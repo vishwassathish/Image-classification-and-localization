{
 "cells": [
  {
   "cell_type": "code",
   "execution_count": 1,
   "metadata": {},
   "outputs": [
    {
     "name": "stderr",
     "output_type": "stream",
     "text": [
      "Using TensorFlow backend.\n"
     ]
    }
   ],
   "source": [
    "import os\n",
    "import numpy as np\n",
    "from PIL import Image, ImageDraw\n",
    "from pickle import load\n",
    "import NNfunctions as NN\n",
    "from keras.models import load_model\n",
    "\n",
    "root_dir = 'C:/Users/Varun/Desktop/VOCdevkit/VOC2010'\n",
    "img_dir = os.path.join(root_dir, 'JPEGImages')"
   ]
  },
  {
   "cell_type": "code",
   "execution_count": 2,
   "metadata": {},
   "outputs": [
    {
     "name": "stdout",
     "output_type": "stream",
     "text": [
      "[4744, 4744, 4744]\n"
     ]
    }
   ],
   "source": [
    "x_master, y_master, z_master = NN.get_dataset('C:/Users/Varun/Desktop/AI-ESA/preprocessing')"
   ]
  },
  {
   "cell_type": "code",
   "execution_count": 3,
   "metadata": {},
   "outputs": [
    {
     "name": "stdout",
     "output_type": "stream",
     "text": [
      "(3500, 128, 128, 3) (3500, 15)\n"
     ]
    }
   ],
   "source": [
    "indices = np.arange(x_master.shape[0])\n",
    "x_master = x_master[indices]\n",
    "y_master = y_master[indices]\n",
    "z_master = z_master[indices]\n",
    "\n",
    "NB_TRAIN = 3500\n",
    "\n",
    "x_train = np.array(x_master[:NB_TRAIN])\n",
    "y_train = np.array(y_master[:NB_TRAIN])\n",
    "z_train = np.array(z_master[:NB_TRAIN])\n",
    "\n",
    "print(x_train.shape, z_train.shape)"
   ]
  },
  {
   "cell_type": "code",
   "execution_count": 12,
   "metadata": {
    "scrolled": true
   },
   "outputs": [
    {
     "name": "stdout",
     "output_type": "stream",
     "text": [
      "_________________________________________________________________\n",
      "Layer (type)                 Output Shape              Param #   \n",
      "=================================================================\n",
      "input_4 (InputLayer)         (None, None, None, 3)     0         \n",
      "_________________________________________________________________\n",
      "block1_conv1 (Conv2D)        (None, None, None, 64)    1792      \n",
      "_________________________________________________________________\n",
      "block1_conv2 (Conv2D)        (None, None, None, 64)    36928     \n",
      "_________________________________________________________________\n",
      "block1_pool (MaxPooling2D)   (None, None, None, 64)    0         \n",
      "_________________________________________________________________\n",
      "block2_conv1 (Conv2D)        (None, None, None, 128)   73856     \n",
      "_________________________________________________________________\n",
      "block2_conv2 (Conv2D)        (None, None, None, 128)   147584    \n",
      "_________________________________________________________________\n",
      "block2_pool (MaxPooling2D)   (None, None, None, 128)   0         \n",
      "_________________________________________________________________\n",
      "block3_conv1 (Conv2D)        (None, None, None, 256)   295168    \n",
      "_________________________________________________________________\n",
      "block3_conv2 (Conv2D)        (None, None, None, 256)   590080    \n",
      "_________________________________________________________________\n",
      "block3_conv3 (Conv2D)        (None, None, None, 256)   590080    \n",
      "_________________________________________________________________\n",
      "block3_pool (MaxPooling2D)   (None, None, None, 256)   0         \n",
      "_________________________________________________________________\n",
      "block4_conv1 (Conv2D)        (None, None, None, 512)   1180160   \n",
      "_________________________________________________________________\n",
      "block4_conv2 (Conv2D)        (None, None, None, 512)   2359808   \n",
      "_________________________________________________________________\n",
      "block4_conv3 (Conv2D)        (None, None, None, 512)   2359808   \n",
      "_________________________________________________________________\n",
      "block4_pool (MaxPooling2D)   (None, None, None, 512)   0         \n",
      "_________________________________________________________________\n",
      "block5_conv1 (Conv2D)        (None, None, None, 512)   2359808   \n",
      "_________________________________________________________________\n",
      "block5_conv2 (Conv2D)        (None, None, None, 512)   2359808   \n",
      "_________________________________________________________________\n",
      "block5_conv3 (Conv2D)        (None, None, None, 512)   2359808   \n",
      "_________________________________________________________________\n",
      "block5_pool (MaxPooling2D)   (None, None, None, 512)   0         \n",
      "_________________________________________________________________\n",
      "global_average_pooling2d_4 ( (None, 512)               0         \n",
      "_________________________________________________________________\n",
      "dense_7 (Dense)              (None, 128)               65664     \n",
      "_________________________________________________________________\n",
      "dense_8 (Dense)              (None, 15)                1935      \n",
      "=================================================================\n",
      "Total params: 14,782,287\n",
      "Trainable params: 67,599\n",
      "Non-trainable params: 14,714,688\n",
      "_________________________________________________________________\n",
      "Train on 2800 samples, validate on 700 samples\n",
      "Epoch 1/8\n",
      "2800/2800 [==============================] - 92s 33ms/step - loss: 2.2503 - acc: 0.2825 - val_loss: 1.9702 - val_acc: 0.3843\n",
      "Epoch 2/8\n",
      "2800/2800 [==============================] - 94s 33ms/step - loss: 1.7800 - acc: 0.4571 - val_loss: 1.6892 - val_acc: 0.4800\n",
      "Epoch 3/8\n",
      "2800/2800 [==============================] - 95s 34ms/step - loss: 1.5435 - acc: 0.5196 - val_loss: 1.5195 - val_acc: 0.5329\n",
      "Epoch 4/8\n",
      "2800/2800 [==============================] - 96s 34ms/step - loss: 1.4011 - acc: 0.5625 - val_loss: 1.4216 - val_acc: 0.5571\n",
      "Epoch 5/8\n",
      "2800/2800 [==============================] - 97s 35ms/step - loss: 1.2984 - acc: 0.5950 - val_loss: 1.3627 - val_acc: 0.5700\n",
      "Epoch 6/8\n",
      "2800/2800 [==============================] - 95s 34ms/step - loss: 1.2349 - acc: 0.6068 - val_loss: 1.3115 - val_acc: 0.5914\n",
      "Epoch 7/8\n",
      "2800/2800 [==============================] - 96s 34ms/step - loss: 1.1815 - acc: 0.6214 - val_loss: 1.2978 - val_acc: 0.5971\n",
      "Epoch 8/8\n",
      "2800/2800 [==============================] - 96s 34ms/step - loss: 1.1360 - acc: 0.6314 - val_loss: 1.2724 - val_acc: 0.5886\n"
     ]
    }
   ],
   "source": [
    "from keras import applications\n",
    "from keras.models import Sequential, Model\n",
    "from keras.layers import Conv2D, MaxPooling2D\n",
    "from keras.layers import Activation, Dropout, Flatten, Dense, GlobalAveragePooling2D\n",
    "\n",
    "base_model = applications.VGG16(weights = 'imagenet', include_top=False)\n",
    "x = base_model.output\n",
    "x = GlobalAveragePooling2D()(x)\n",
    "x = Dense(128, activation='relu')(x)\n",
    "predictions = Dense(15, activation='softmax')(x)\n",
    "model = Model(inputs=base_model.input, outputs=predictions)\n",
    "\n",
    "for layer in base_model.layers:\n",
    "    layer.trainable = False\n",
    "\n",
    "model.compile(optimizer='adam', loss='categorical_crossentropy', metrics = ['accuracy'])\n",
    "\n",
    "model.summary()\n",
    "\n",
    "model.fit(x_train, z_train,\n",
    "          batch_size = 50,\n",
    "          epochs = 8,\n",
    "          validation_split = 0.2)\n",
    "model.save('transfer_learning_model.h5')\n",
    "del model"
   ]
  },
  {
   "cell_type": "code",
   "execution_count": 13,
   "metadata": {},
   "outputs": [
    {
     "name": "stdout",
     "output_type": "stream",
     "text": [
      "[ 0.08621018  0.00348278  0.04653129  0.07229409  0.47128791  0.04046512\n",
      "  0.02108211  0.00775007  0.02766068  0.13710414  0.03745021  0.02411136\n",
      "  0.00999911  0.01100108  0.00356989]\n",
      "aeroplane\n"
     ]
    }
   ],
   "source": [
    "model = load_model('transfer_learning_model.h5')\n",
    "print(NN.predict_class(model, os.path.join(img_dir, '2007_000032.jpg')))\n",
    "del model"
   ]
  },
  {
   "cell_type": "code",
   "execution_count": 16,
   "metadata": {},
   "outputs": [
    {
     "name": "stdout",
     "output_type": "stream",
     "text": [
      "1000/1000 [==============================] - 29s 29ms/step\n",
      "[1.2456729918718339, 0.58500000596046453]\n"
     ]
    }
   ],
   "source": [
    "model = load_model('transfer_learning_model.h5')\n",
    "x_test, z_test = x_master[-1000:], z_master[-1000:]\n",
    "print(model.evaluate(x_test, z_test, batch_size = 10))\n",
    "del model"
   ]
  },
  {
   "cell_type": "code",
   "execution_count": 15,
   "metadata": {},
   "outputs": [
    {
     "name": "stdout",
     "output_type": "stream",
     "text": [
      "CONFUSION MATRIX\n",
      "[ 0  1  2  3  4  5  6  7  8  9 10 11 12 13 14]\n",
      "[[140   2   8   9   4   0   0   6  15   0   0   1   2   0   2]\n",
      " [  2  19   0   2   0   0   0   0   0   0   0   0   0   0   1]\n",
      " [ 14   0  47   1   8   0   0  21  10   0   0   0   0   0   0]\n",
      " [  1   0   2  41   2   0   0   3   0   0   2   0   0   0   0]\n",
      " [  0   0   4  12  74   0   0   0   0   0   0   1   0   0   0]\n",
      " [  9   0   3   3   0   9   0   7   5   0   0   1   0   0   0]\n",
      " [  3   0   3   2   1   4   0   1  13   0   0   0   0   0   0]\n",
      " [ 18   0   9   4   0   0   0  93  35   0   0   0   1   0   1]\n",
      " [ 15   0  10   1   4   1   0  19  88   1   0   0   0   0   0]\n",
      " [  2   0   4  15   8   0   0   0   1   2   0   0   0   0   0]\n",
      " [  5   0   1  11   6   0   0   0   1   1  30   0   1   0   0]\n",
      " [  7   0   1   0   2   0   0   0   1   0   0  20   0   0   0]\n",
      " [  8   0   0   1   1   0   0   0   6   0   0   0   8   1   1]\n",
      " [  4   2   3   1   1   0   0   1   0   0   0   0   0  10   0]\n",
      " [  9   0   0   0   0   0   0   0   0   0   0   0   0   0   4]]\n",
      "{0: 'person', 1: 'tvmonitor', 2: 'bird', 3: 'train', 4: 'aeroplane', 5: 'horse', 6: 'cow', 7: 'cat', 8: 'dog', 9: 'boat', 10: 'car', 11: 'bicycle', 12: 'motorbike', 13: 'bottle', 14: 'chair'}\n",
      "[['ACCURACY' 'PRECISION' 'RECALL']\n",
      " ['0.5907' '0.7407' '0.2393']\n",
      " ['0.8261' '0.7917' '0.0325']\n",
      " ['0.4947' '0.4653' '0.0803']\n",
      " ['0.3981' '0.8039' '0.0701']\n",
      " ['0.6667' '0.8132' '0.1265']\n",
      " ['0.6429' '0.2432' '0.0154']\n",
      " ['0.0000' '0.0000' '0.0000']\n",
      " ['0.6159' '0.5776' '0.1590']\n",
      " ['0.5029' '0.6331' '0.1504']\n",
      " ['0.5000' '0.0625' '0.0034']\n",
      " ['0.9375' '0.5357' '0.0513']\n",
      " ['0.8696' '0.6452' '0.0342']\n",
      " ['0.6667' '0.3077' '0.0137']\n",
      " ['0.9091' '0.4545' '0.0171']\n",
      " ['0.4444' '0.3077' '0.0068']]\n"
     ]
    }
   ],
   "source": [
    "model = load_model('transfer_learning_model.h5')\n",
    "NN.make_confusion_matrix(model, x_test, z_test)\n",
    "del model"
   ]
  },
  {
   "cell_type": "code",
   "execution_count": null,
   "metadata": {},
   "outputs": [],
   "source": []
  }
 ],
 "metadata": {
  "kernelspec": {
   "display_name": "Python 3",
   "language": "python",
   "name": "python3"
  },
  "language_info": {
   "codemirror_mode": {
    "name": "ipython",
    "version": 3
   },
   "file_extension": ".py",
   "mimetype": "text/x-python",
   "name": "python",
   "nbconvert_exporter": "python",
   "pygments_lexer": "ipython3",
   "version": "3.5.4"
  }
 },
 "nbformat": 4,
 "nbformat_minor": 2
}
